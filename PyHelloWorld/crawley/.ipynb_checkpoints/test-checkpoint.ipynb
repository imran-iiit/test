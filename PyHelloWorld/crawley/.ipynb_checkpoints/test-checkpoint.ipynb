{
 "cells": [
  {
   "cell_type": "code",
   "execution_count": 2,
   "metadata": {},
   "outputs": [
    {
     "data": {
      "text/plain": [
       "{'interval': ['1d'], 'range': ['1mo']}"
      ]
     },
     "execution_count": 2,
     "metadata": {},
     "output_type": "execute_result"
    }
   ],
   "source": [
    "from urllib import parse\n",
    "url = \"https://query1.finance.yahoo.com/v8/finance/chart/MOTHERSUMI.NS?range=1mo&interval=1d\"\n",
    "parse.urlsplit(url)\n",
    "\n",
    "parse.parse_qs(parse.urlsplit(url).query)\n",
    "\n",
    "query = urlsplit(url).query\n",
    ">>> params = parse_qs(query)\n",
    ">>> params"
   ]
  },
  {
   "cell_type": "code",
   "execution_count": null,
   "metadata": {},
   "outputs": [],
   "source": []
  }
 ],
 "metadata": {
  "kernelspec": {
   "display_name": "Python 3",
   "language": "python",
   "name": "python3"
  },
  "language_info": {
   "codemirror_mode": {
    "name": "ipython",
    "version": 3
   },
   "file_extension": ".py",
   "mimetype": "text/x-python",
   "name": "python",
   "nbconvert_exporter": "python",
   "pygments_lexer": "ipython3",
   "version": "3.6.3"
  }
 },
 "nbformat": 4,
 "nbformat_minor": 2
}
