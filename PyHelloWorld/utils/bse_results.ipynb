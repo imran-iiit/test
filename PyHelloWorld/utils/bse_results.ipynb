{
 "cells": [
  {
   "cell_type": "code",
   "execution_count": 1,
   "metadata": {},
   "outputs": [],
   "source": [
    "import pandas as pd\n",
    "import requests\n",
    "from bs4 import BeautifulSoup as bs\n",
    "from io import BytesIO\n",
    "\n",
    "RESULT = '/Users/aniron/Documents/Tracked/PyHelloWorld/utils/result_dates.csv'\n",
    "### Cant read from this directly!!!\n",
    "URL = 'https://www.bseindia.com/corporates/Forth_Results.html'\n",
    "HOLDINGS = 'https://docs.google.com/spreadsheets/d/1bEphyMdSM6Zrxt2Pv7qTuD5sUeidbXiDmmabTvmeZnM/edit#gid=0'\n",
    "\n",
    "### TODO - copy the latest from the above page to the csv's below\n",
    "URL = '/Users/aniron/Documents/Tracked/PyHelloWorld/utils/bse_result_data.csv'\n",
    "HOLDINGS = '/Users/aniron/Documents/Tracked/PyHelloWorld/utils/Holdings.csv'\n",
    "\n",
    "\n"
   ]
  },
  {
   "cell_type": "code",
   "execution_count": 2,
   "metadata": {},
   "outputs": [],
   "source": [
    "# s = requests.get(HOLDINGS).content\n",
    "# df = pd.read_csv(BytesIO(s), index_col=0)\n",
    "# bs(s)\n",
    "result_data = pd.read_csv(URL)[['SecurityName', 'Result Date']] #.set_index('SecurityName')\n",
    "result_data['SecurityName'] = result_data['SecurityName'].str.replace('*','') ## Remove the openOffer marker\n",
    "result_data = result_data.set_index('SecurityName')\n",
    "holdings = pd.read_csv(HOLDINGS, skip_blank_lines=True).set_index('SecurityName')"
   ]
  },
  {
   "cell_type": "code",
   "execution_count": 3,
   "metadata": {},
   "outputs": [
    {
     "name": "stdout",
     "output_type": "stream",
     "text": [
      "             Result Date\n",
      "SecurityName            \n",
      "ABANSENT       23-Jan-23\n",
      "AMBER          23-Jan-23\n",
      "ARVSMART       23-Jan-23\n",
      "AVANTEL        23-Jan-23\n",
      "AXISBANK       23-Jan-23\n",
      "Empty DataFrame\n",
      "Columns: []\n",
      "Index: [DMART, POLYCAB, BAJFINANCE, DIVISLAB, DEEPAKNTR]\n"
     ]
    }
   ],
   "source": [
    "print(result_data.head())\n",
    "print(holdings.head())\n",
    "\n",
    "result_data.join(holdings, how='right', lsuffix='_l', rsuffix='_r', sort=True).to_csv(RESULT)"
   ]
  },
  {
   "cell_type": "code",
   "execution_count": 86,
   "metadata": {},
   "outputs": [],
   "source": [
    "# test = pd.read_csv('https://docs.google.com/spreadsheets/d/' + \n",
    "#                    '1bEphyMdSM6Zrxt2Pv7qTuD5sUeidbXiDmmabTvmeZnM' +\n",
    "#                    '/export?gid=0',\n",
    "#                    # Set first column as rownames in data frame\n",
    "# #                    index_col=0,\n",
    "#                    # Parse column values to datetime\n",
    "# #                    parse_dates=['Quradate']\n",
    "#                   )\n",
    "# test.head(5)  "
   ]
  },
  {
   "cell_type": "code",
   "execution_count": null,
   "metadata": {},
   "outputs": [],
   "source": []
  }
 ],
 "metadata": {
  "kernelspec": {
   "display_name": "Python 3 (ipykernel)",
   "language": "python",
   "name": "python3"
  },
  "language_info": {
   "codemirror_mode": {
    "name": "ipython",
    "version": 3
   },
   "file_extension": ".py",
   "mimetype": "text/x-python",
   "name": "python",
   "nbconvert_exporter": "python",
   "pygments_lexer": "ipython3",
   "version": "3.9.9"
  }
 },
 "nbformat": 4,
 "nbformat_minor": 2
}
